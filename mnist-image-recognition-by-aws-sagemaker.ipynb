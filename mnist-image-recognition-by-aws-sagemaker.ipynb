{
 "cells": [
  {
   "cell_type": "code",
   "execution_count": 1,
   "metadata": {
    "collapsed": true,
    "isConfigCell": true
   },
   "outputs": [],
   "source": [
    "## Retaining the role to access the data\n",
    "from sagemaker import get_execution_role\n",
    "\n",
    "role = get_execution_role()\n",
    "bucket=\"ucd-ml\""
   ]
  },
  {
   "cell_type": "code",
   "execution_count": 2,
   "metadata": {},
   "outputs": [
    {
     "name": "stdout",
     "output_type": "stream",
     "text": [
      "CPU times: user 892 ms, sys: 308 ms, total: 1.2 s\n",
      "Wall time: 1.6 s\n"
     ]
    }
   ],
   "source": [
    "%%time\n",
    "import pickle, gzip, numpy, urllib.request, json\n",
    "\n",
    "# Load the dataset\n",
    "urllib.request.urlretrieve(\"http://deeplearning.net/data/mnist/mnist.pkl.gz\", \"mnist.pkl.gz\")\n",
    "with gzip.open(\"mnist.pkl.gz\", \"rb\") as f:\n",
    "    train_set, valid_set, test_set = pickle.load(f, encoding=\"latin1\")"
   ]
  },
  {
   "cell_type": "code",
   "execution_count": 3,
   "metadata": {
    "collapsed": true
   },
   "outputs": [],
   "source": [
    "## To see what how the data set looks like\n",
    "train_sample, number  = train_set"
   ]
  },
  {
   "cell_type": "code",
   "execution_count": 4,
   "metadata": {},
   "outputs": [
    {
     "data": {
      "text/plain": [
       "(50000, 784)"
      ]
     },
     "execution_count": 4,
     "metadata": {},
     "output_type": "execute_result"
    }
   ],
   "source": [
    "## 50.0000 observations in training set and each of them is presented by aflattened array of 784, which is 28 x 28. \n",
    "## 28 X 28 array shows pixels that belong to the number\n",
    "train_sample.shape"
   ]
  },
  {
   "cell_type": "code",
   "execution_count": 5,
   "metadata": {},
   "outputs": [
    {
     "data": {
      "text/plain": [
       "(50000,)"
      ]
     },
     "execution_count": 5,
     "metadata": {},
     "output_type": "execute_result"
    }
   ],
   "source": [
    "number.shape"
   ]
  },
  {
   "cell_type": "code",
   "execution_count": 6,
   "metadata": {},
   "outputs": [
    {
     "data": {
      "text/plain": [
       "5"
      ]
     },
     "execution_count": 6,
     "metadata": {},
     "output_type": "execute_result"
    }
   ],
   "source": [
    "## We have done tuple unpacking to get familiar with data. During modelling, train_set will be used for convenience.\n",
    "number[0]"
   ]
  },
  {
   "cell_type": "code",
   "execution_count": 7,
   "metadata": {
    "collapsed": true
   },
   "outputs": [],
   "source": [
    "%matplotlib inline\n",
    "import matplotlib.pyplot as plt"
   ]
  },
  {
   "cell_type": "code",
   "execution_count": 8,
   "metadata": {},
   "outputs": [
    {
     "data": {
      "text/plain": [
       "Text(0.5,1,'This is a 5')"
      ]
     },
     "execution_count": 8,
     "metadata": {},
     "output_type": "execute_result"
    },
    {
     "data": {
      "image/png": "[encoded data removed]",
      "text/plain": [
       "<matplotlib.figure.Figure at 0x7f44e143b860>"
      ]
     },
     "metadata": {},
     "output_type": "display_data"
    }
   ],
   "source": [
    "plt.figure(figsize=(3,3))\n",
    "plt.axis(\"off\")\n",
    "\n",
    "plt.imshow(train_set[0][0].reshape(28,28), cmap=\"Greys\")\n",
    "plt.title(\"This is a {}\".format(train_set[1][0]))"
   ]
  },
  {
   "cell_type": "code",
   "execution_count": 9,
   "metadata": {},
   "outputs": [
    {
     "data": {
      "text/plain": [
       "Text(0.5,1,'This is a 8')"
      ]
     },
     "execution_count": 9,
     "metadata": {},
     "output_type": "execute_result"
    },
    {
     "data": {
      "image/png": "[encoded data removed]",
      "text/plain": [
       "<matplotlib.figure.Figure at 0x7f44e1468550>"
      ]
     },
     "metadata": {},
     "output_type": "display_data"
    }
   ],
   "source": [
    "plt.figure(figsize=(3,3))\n",
    "plt.axis(\"off\")\n",
    "\n",
    "plt.imshow(train_set[0][49999].reshape(28,28), cmap=\"Greys\")\n",
    "plt.title(\"This is a {}\".format(train_set[1][49999]))"
   ]
  },
  {
   "cell_type": "code",
   "execution_count": 10,
   "metadata": {},
   "outputs": [
    {
     "name": "stdout",
     "output_type": "stream",
     "text": [
      "training data will be uploaded to: s3://ucd-machine-learning/AWS_Sagemaker_MNIST/code\n",
      "training artifacts will be uploaded to: s3://ucd-machine-learning/AWS_Sagemaker_MNIST/output\n"
     ]
    }
   ],
   "source": [
    "#Bucket location to save the custom code in tar.gz format.\n",
    "output_location = \"s3://ucd-machine-learning/AWS_Sagemaker_MNIST/code\"\n",
    "\n",
    "#Bucket location where results of model training are saved.\n",
    "model_location = \"s3://ucd-machine-learning/AWS_Sagemaker_MNIST/output\"\n",
    "\n",
    "# IAM execution role that gives SageMaker access to resources in the AWS account.\n",
    "# It is possible to use the SageMaker Python SDK to get the role from the notebook environment. \n",
    "\n",
    "print('training data will be uploaded to: {}'.format(output_location))\n",
    "print('training artifacts will be uploaded to: {}'.format(model_location))"
   ]
  },
  {
   "cell_type": "code",
   "execution_count": 11,
   "metadata": {},
   "outputs": [
    {
     "name": "stdout",
     "output_type": "stream",
     "text": [
      "import logging\r\n",
      "\r\n",
      "import gzip\r\n",
      "import mxnet as mx\r\n",
      "import numpy as np\r\n",
      "import os\r\n",
      "import struct\r\n",
      "\r\n",
      "\r\n",
      "def load_data(path):\r\n",
      "    with gzip.open(find_file(path, \"labels.gz\")) as flbl:\r\n",
      "        struct.unpack(\">II\", flbl.read(8))\r\n",
      "        labels = np.fromstring(flbl.read(), dtype=np.int8)\r\n",
      "    with gzip.open(find_file(path, \"images.gz\")) as fimg:\r\n",
      "        _, _, rows, cols = struct.unpack(\">IIII\", fimg.read(16))\r\n",
      "        images = np.fromstring(fimg.read(), dtype=np.uint8).reshape(len(labels), rows, cols)\r\n",
      "        images = images.reshape(images.shape[0], 1, 28, 28).astype(np.float32) / 255\r\n",
      "    return labels, images\r\n",
      "\r\n",
      "\r\n",
      "def find_file(root_path, file_name):\r\n",
      "    for root, dirs, files in os.walk(root_path):\r\n",
      "        if file_name in files:\r\n",
      "            return os.path.join(root, file_name)\r\n",
      "\r\n",
      "\r\n",
      "def build_graph():\r\n",
      "    data = mx.sym.var('data')\r\n",
      "    data = mx.sym.flatten(data=data)\r\n",
      "    fc1 = mx.sym.FullyConnected(data=data, num_hidden=128)\r\n",
      "    act1 = mx.sym.Activation(data=fc1, act_type=\"relu\")\r\n",
      "    fc2 = mx.sym.FullyConnected(data=act1, num_hidden=64)\r\n",
      "    act2 = mx.sym.Activation(data=fc2, act_type=\"relu\")\r\n",
      "    fc3 = mx.sym.FullyConnected(data=act2, num_hidden=10)\r\n",
      "    return mx.sym.SoftmaxOutput(data=fc3, name='softmax')\r\n",
      "\r\n",
      "\r\n",
      "def train(channel_input_dirs, hyperparameters, hosts, num_cpus, num_gpus, **kwargs):\r\n",
      "    (train_labels, train_images) = load_data(os.path.join(channel_input_dirs['train']))\r\n",
      "    (test_labels, test_images) = load_data(os.path.join(channel_input_dirs['test']))\r\n",
      "    batch_size = 100\r\n",
      "    train_iter = mx.io.NDArrayIter(train_images, train_labels, batch_size, shuffle=True)\r\n",
      "    val_iter = mx.io.NDArrayIter(test_images, test_labels, batch_size)\r\n",
      "    logging.getLogger().setLevel(logging.DEBUG)\r\n",
      "    kvstore = 'local' if len(hosts) == 1 else 'dist_sync'\r\n",
      "    mlp_model = mx.mod.Module(\r\n",
      "        symbol=build_graph(),\r\n",
      "        context=get_train_context(num_cpus, num_gpus))\r\n",
      "    mlp_model.fit(train_iter,\r\n",
      "                  eval_data=val_iter,\r\n",
      "                  kvstore=kvstore,\r\n",
      "                  optimizer='sgd',\r\n",
      "                  optimizer_params={'learning_rate': float(hyperparameters.get(\"learning_rate\", 0.1))},\r\n",
      "                  eval_metric='acc',\r\n",
      "                  batch_end_callback=mx.callback.Speedometer(batch_size, 100),\r\n",
      "                  num_epoch=25)\r\n",
      "    return mlp_model\r\n",
      "\r\n",
      "\r\n",
      "def get_train_context(num_cpus, num_gpus):\r\n",
      "    if num_gpus > 0:\r\n",
      "        return mx.gpu()\r\n",
      "    return mx.cpu()\r\n"
     ]
    }
   ],
   "source": [
    "!cat \"mnist.py\""
   ]
  },
  {
   "cell_type": "markdown",
   "metadata": {},
   "source": [
    "### Training MXNet Model"
   ]
  },
  {
   "cell_type": "code",
   "execution_count": 12,
   "metadata": {
    "collapsed": true
   },
   "outputs": [],
   "source": [
    "from sagemaker.mxnet import MXNet\n",
    "\n",
    "mnist_estimator = MXNet(entry_point=\"mnist.py\",\n",
    "                        role=role,\n",
    "                        output_path = model_location,\n",
    "                        code_location = output_location,\n",
    "                        train_instance_count=1, \n",
    "                        train_instance_type=\"ml.m4.xlarge\",\n",
    "                        hyperparameters={\"learning_rate\": 0.1})"
   ]
  },
  {
   "cell_type": "code",
   "execution_count": 13,
   "metadata": {},
   "outputs": [
    {
     "name": "stdout",
     "output_type": "stream",
     "text": [
      "CPU times: user 8 ms, sys: 0 ns, total: 8 ms\n",
      "Wall time: 4.75 ms\n"
     ]
    }
   ],
   "source": [
    "%%time\n",
    "import boto3\n",
    "\n",
    "region = boto3.Session().region_name\n",
    "\n",
    "train_data_location = \"s3://sagemaker-sample-data-{}/mxnet/mnist/train\".format(region)\n",
    "test_data_location = \"s3://sagemaker-sample-data-{}/mxnet/mnist/test\".format(region)\n"
   ]
  },
  {
   "cell_type": "code",
   "execution_count": 14,
   "metadata": {},
   "outputs": [
    {
     "name": "stderr",
     "output_type": "stream",
     "text": [
      "INFO:sagemaker:Creating training-job with name: sagemaker-mxnet-py2-cpu-2018-03-11-08-01-54-042\n"
     ]
    },
    {
     "name": "stdout",
     "output_type": "stream",
     "text": [
      ".........................................................................\n",
      "\u001b[31mexecuting startup script (first run)\u001b[0m\n",
      "\u001b[31m2018-03-11 08:07:24,389 INFO - root - running container entrypoint\u001b[0m\n",
      "\u001b[31m2018-03-11 08:07:24,389 INFO - root - starting train task\u001b[0m\n",
      "\u001b[31m2018-03-11 08:07:25,810 INFO - mxnet_container.train - MXNetTrainingEnvironment: {'enable_cloudwatch_metrics': False, 'available_gpus': 0, 'channels': {u'test': {u'TrainingInputMode': u'File', u'RecordWrapperType': u'None', u'S3DistributionType': u'FullyReplicated'}, u'train': {u'TrainingInputMode': u'File', u'RecordWrapperType': u'None', u'S3DistributionType': u'FullyReplicated'}}, '_ps_verbose': 0, 'resource_config': {u'current_host': u'algo-1', u'hosts': [u'algo-1']}, 'user_script_name': u'mnist.py', 'input_config_dir': '/opt/ml/input/config', 'channel_dirs': {u'test': u'/opt/ml/input/data/test', u'train': u'/opt/ml/input/data/train'}, 'code_dir': '/opt/ml/code', 'output_data_dir': '/opt/ml/output/data/', 'output_dir': '/opt/ml/output', 'model_dir': '/opt/ml/model', 'hyperparameters': {u'sagemaker_program': u'mnist.py', u'learning_rate': 0.1, u'sagemaker_submit_directory': u's3://ucd-machine-learning/AWS_Sagemaker_MNIST/code/sagemaker-mxnet-py2-cpu-2018-03-11-08-01-54-042/source/sourcedir.tar.gz', u'sagemaker_region': u'us-east-1', u'sagemaker_enable_cloudwatch_metrics': False, u'sagemaker_job_name': u'sagemaker-mxnet-py2-cpu-2018-03-11-08-01-54-042', u'sagemaker_container_log_level': 20}, 'hosts': [u'algo-1'], '_scheduler_ip': '10.32.0.4', '_ps_port': 8000, 'user_script_archive': u's3://ucd-machine-learning/AWS_Sagemaker_MNIST/code/sagemaker-mxnet-py2-cpu-2018-03-11-08-01-54-042/source/sourcedir.tar.gz', '_scheduler_host': u'algo-1', 'sagemaker_region': u'us-east-1', 'input_dir': '/opt/ml/input', 'user_requirements_file': None, 'current_host': u'algo-1', 'container_log_level': 20, 'available_cpus': 4, 'base_dir': '/opt/ml'}\u001b[0m\n",
      "\u001b[31mDownloading s3://ucd-machine-learning/AWS_Sagemaker_MNIST/code/sagemaker-mxnet-py2-cpu-2018-03-11-08-01-54-042/source/sourcedir.tar.gz to /tmp/script.tar.gz\u001b[0m\n",
      "\u001b[31m2018-03-11 08:07:25,900 INFO - botocore.vendored.requests.packages.urllib3.connectionpool - Starting new HTTP connection (1): 169.254.170.2\u001b[0m\n",
      "\u001b[31m2018-03-11 08:07:25,999 INFO - botocore.vendored.requests.packages.urllib3.connectionpool - Starting new HTTPS connection (1): s3.amazonaws.com\u001b[0m\n",
      "\u001b[31m2018-03-11 08:07:26,116 INFO - mxnet_container.train - Starting distributed training task\u001b[0m\n",
      "\u001b[31m2018-03-11 08:07:27,654 INFO - root - Epoch[0] Batch [100]#011Speed: 27865.72 samples/sec#011accuracy=0.107327\u001b[0m\n",
      "\u001b[31m2018-03-11 08:07:27,943 INFO - root - Epoch[0] Batch [200]#011Speed: 34622.32 samples/sec#011accuracy=0.113700\u001b[0m\n",
      "\u001b[31m2018-03-11 08:07:28,234 INFO - root - Epoch[0] Batch [300]#011Speed: 34404.70 samples/sec#011accuracy=0.109300\u001b[0m\n",
      "\u001b[31m2018-03-11 08:07:28,577 INFO - root - Epoch[0] Batch [400]#011Speed: 29172.79 samples/sec#011accuracy=0.109200\u001b[0m\n",
      "\u001b[31m2018-03-11 08:07:28,898 INFO - root - Epoch[0] Batch [500]#011Speed: 31152.15 samples/sec#011accuracy=0.114200\u001b[0m\n",
      "\u001b[31m2018-03-11 08:07:29,242 INFO - root - Epoch[0] Train-accuracy=0.249495\u001b[0m\n",
      "\u001b[31m2018-03-11 08:07:29,242 INFO - root - Epoch[0] Time cost=1.969\u001b[0m\n",
      "\u001b[31m2018-03-11 08:07:29,407 INFO - root - Epoch[0] Validation-accuracy=0.382800\u001b[0m\n",
      "\u001b[31m2018-03-11 08:07:29,755 INFO - root - Epoch[1] Batch [100]#011Speed: 28885.38 samples/sec#011accuracy=0.460891\u001b[0m\n",
      "\u001b[31m2018-03-11 08:07:30,076 INFO - root - Epoch[1] Batch [200]#011Speed: 31167.78 samples/sec#011accuracy=0.595200\u001b[0m\n",
      "\u001b[31m2018-03-11 08:07:30,387 INFO - root - Epoch[1] Batch [300]#011Speed: 32168.61 samples/sec#011accuracy=0.752300\u001b[0m\n",
      "\u001b[31m2018-03-11 08:07:30,830 INFO - root - Epoch[1] Batch [400]#011Speed: 22577.28 samples/sec#011accuracy=0.793000\u001b[0m\n",
      "\u001b[31m2018-03-11 08:07:31,160 INFO - root - Epoch[1] Batch [500]#011Speed: 30416.50 samples/sec#011accuracy=0.817400\u001b[0m\n",
      "\u001b[31m2018-03-11 08:07:31,483 INFO - root - Epoch[1] Train-accuracy=0.844545\u001b[0m\n",
      "\u001b[31m2018-03-11 08:07:31,483 INFO - root - Epoch[1] Time cost=2.076\u001b[0m\n",
      "\u001b[31m2018-03-11 08:07:31,680 INFO - root - Epoch[1] Validation-accuracy=0.847400\u001b[0m\n",
      "\u001b[31m2018-03-11 08:07:31,994 INFO - root - Epoch[2] Batch [100]#011Speed: 32170.68 samples/sec#011accuracy=0.861188\u001b[0m\n",
      "\u001b[31m2018-03-11 08:07:32,308 INFO - root - Epoch[2] Batch [200]#011Speed: 31921.75 samples/sec#011accuracy=0.871900\u001b[0m\n",
      "\u001b[31m2018-03-11 08:07:32,649 INFO - root - Epoch[2] Batch [300]#011Speed: 29270.25 samples/sec#011accuracy=0.884600\u001b[0m\n",
      "\u001b[31m2018-03-11 08:07:32,975 INFO - root - Epoch[2] Batch [400]#011Speed: 30751.99 samples/sec#011accuracy=0.894300\u001b[0m\n",
      "\u001b[31m2018-03-11 08:07:33,314 INFO - root - Epoch[2] Batch [500]#011Speed: 29460.28 samples/sec#011accuracy=0.898500\u001b[0m\n",
      "\u001b[31m2018-03-11 08:07:33,675 INFO - root - Epoch[2] Train-accuracy=0.910606\u001b[0m\n",
      "\u001b[31m2018-03-11 08:07:33,675 INFO - root - Epoch[2] Time cost=1.994\u001b[0m\n",
      "\u001b[31m2018-03-11 08:07:33,830 INFO - root - Epoch[2] Validation-accuracy=0.918300\u001b[0m\n",
      "\u001b[31m2018-03-11 08:07:34,146 INFO - root - Epoch[3] Batch [100]#011Speed: 31930.72 samples/sec#011accuracy=0.918416\u001b[0m\n",
      "\u001b[31m2018-03-11 08:07:34,435 INFO - root - Epoch[3] Batch [200]#011Speed: 34578.25 samples/sec#011accuracy=0.925000\u001b[0m\n",
      "\u001b[31m2018-03-11 08:07:34,749 INFO - root - Epoch[3] Batch [300]#011Speed: 31905.97 samples/sec#011accuracy=0.928100\u001b[0m\n",
      "\u001b[31m2018-03-11 08:07:35,032 INFO - root - Epoch[3] Batch [400]#011Speed: 35360.56 samples/sec#011accuracy=0.930300\u001b[0m\n",
      "\u001b[31m2018-03-11 08:07:35,347 INFO - root - Epoch[3] Batch [500]#011Speed: 31767.43 samples/sec#011accuracy=0.932500\u001b[0m\n",
      "\u001b[31m2018-03-11 08:07:35,686 INFO - root - Epoch[3] Train-accuracy=0.938687\u001b[0m\n",
      "\u001b[31m2018-03-11 08:07:35,687 INFO - root - Epoch[3] Time cost=1.857\u001b[0m\n",
      "\u001b[31m2018-03-11 08:07:35,824 INFO - root - Epoch[3] Validation-accuracy=0.941000\u001b[0m\n",
      "\u001b[31m2018-03-11 08:07:36,108 INFO - root - Epoch[4] Batch [100]#011Speed: 35532.96 samples/sec#011accuracy=0.942079\u001b[0m\n",
      "\u001b[31m2018-03-11 08:07:36,488 INFO - root - Epoch[4] Batch [200]#011Speed: 26271.95 samples/sec#011accuracy=0.946300\u001b[0m\n",
      "\u001b[31m2018-03-11 08:07:36,838 INFO - root - Epoch[4] Batch [300]#011Speed: 28644.67 samples/sec#011accuracy=0.947400\u001b[0m\n",
      "\u001b[31m2018-03-11 08:07:37,148 INFO - root - Epoch[4] Batch [400]#011Speed: 32219.51 samples/sec#011accuracy=0.948800\u001b[0m\n",
      "\u001b[31m2018-03-11 08:07:37,480 INFO - root - Epoch[4] Batch [500]#011Speed: 30155.17 samples/sec#011accuracy=0.949800\u001b[0m\n",
      "\u001b[31m2018-03-11 08:07:37,827 INFO - root - Epoch[4] Train-accuracy=0.953939\u001b[0m\n",
      "\u001b[31m2018-03-11 08:07:37,828 INFO - root - Epoch[4] Time cost=2.004\u001b[0m\n",
      "\u001b[31m2018-03-11 08:07:37,976 INFO - root - Epoch[4] Validation-accuracy=0.953600\u001b[0m\n",
      "\u001b[31m2018-03-11 08:07:38,306 INFO - root - Epoch[5] Batch [100]#011Speed: 30528.41 samples/sec#011accuracy=0.956139\u001b[0m\n",
      "\u001b[31m2018-03-11 08:07:38,628 INFO - root - Epoch[5] Batch [200]#011Speed: 31042.89 samples/sec#011accuracy=0.957300\u001b[0m\n",
      "\u001b[31m2018-03-11 08:07:38,912 INFO - root - Epoch[5] Batch [300]#011Speed: 35260.92 samples/sec#011accuracy=0.957700\u001b[0m\n",
      "\u001b[31m2018-03-11 08:07:39,216 INFO - root - Epoch[5] Batch [400]#011Speed: 32972.92 samples/sec#011accuracy=0.959200\u001b[0m\n",
      "\u001b[31m2018-03-11 08:07:39,506 INFO - root - Epoch[5] Batch [500]#011Speed: 34498.93 samples/sec#011accuracy=0.958300\u001b[0m\n",
      "\u001b[31m2018-03-11 08:07:39,858 INFO - root - Epoch[5] Train-accuracy=0.961919\u001b[0m\n",
      "\u001b[31m2018-03-11 08:07:39,858 INFO - root - Epoch[5] Time cost=1.882\u001b[0m\n",
      "\u001b[31m2018-03-11 08:07:39,998 INFO - root - Epoch[5] Validation-accuracy=0.958400\u001b[0m\n",
      "\u001b[31m2018-03-11 08:07:40,286 INFO - root - Epoch[6] Batch [100]#011Speed: 35047.86 samples/sec#011accuracy=0.964356\u001b[0m\n",
      "\u001b[31m2018-03-11 08:07:40,624 INFO - root - Epoch[6] Batch [200]#011Speed: 29582.39 samples/sec#011accuracy=0.964300\u001b[0m\n",
      "\u001b[31m2018-03-11 08:07:40,925 INFO - root - Epoch[6] Batch [300]#011Speed: 33254.40 samples/sec#011accuracy=0.965300\u001b[0m\n",
      "\u001b[31m2018-03-11 08:07:41,259 INFO - root - Epoch[6] Batch [400]#011Speed: 29993.83 samples/sec#011accuracy=0.965500\u001b[0m\n",
      "\u001b[31m2018-03-11 08:07:41,624 INFO - root - Epoch[6] Batch [500]#011Speed: 27362.55 samples/sec#011accuracy=0.963900\u001b[0m\n",
      "\u001b[31m2018-03-11 08:07:41,957 INFO - root - Epoch[6] Train-accuracy=0.967778\u001b[0m\n",
      "\u001b[31m2018-03-11 08:07:41,957 INFO - root - Epoch[6] Time cost=1.959\u001b[0m\n",
      "\u001b[31m2018-03-11 08:07:42,133 INFO - root - Epoch[6] Validation-accuracy=0.962500\u001b[0m\n",
      "\u001b[31m2018-03-11 08:07:42,494 INFO - root - Epoch[7] Batch [100]#011Speed: 27989.72 samples/sec#011accuracy=0.970396\u001b[0m\n",
      "\u001b[31m2018-03-11 08:07:42,871 INFO - root - Epoch[7] Batch [200]#011Speed: 26541.39 samples/sec#011accuracy=0.968500\u001b[0m\n",
      "\u001b[31m2018-03-11 08:07:43,183 INFO - root - Epoch[7] Batch [300]#011Speed: 32035.49 samples/sec#011accuracy=0.971000\u001b[0m\n",
      "\u001b[31m2018-03-11 08:07:43,516 INFO - root - Epoch[7] Batch [400]#011Speed: 30076.55 samples/sec#011accuracy=0.970200\u001b[0m\n",
      "\u001b[31m2018-03-11 08:07:43,902 INFO - root - Epoch[7] Batch [500]#011Speed: 25910.50 samples/sec#011accuracy=0.970200\u001b[0m\n",
      "\u001b[31m2018-03-11 08:07:44,295 INFO - root - Epoch[7] Train-accuracy=0.972525\u001b[0m\n",
      "\u001b[31m2018-03-11 08:07:44,296 INFO - root - Epoch[7] Time cost=2.162\u001b[0m\n",
      "\u001b[31m2018-03-11 08:07:44,445 INFO - root - Epoch[7] Validation-accuracy=0.966200\u001b[0m\n",
      "\u001b[31m2018-03-11 08:07:44,837 INFO - root - Epoch[8] Batch [100]#011Speed: 26130.46 samples/sec#011accuracy=0.973564\u001b[0m\n",
      "\u001b[31m2018-03-11 08:07:45,141 INFO - root - Epoch[8] Batch [200]#011Speed: 32903.60 samples/sec#011accuracy=0.973100\u001b[0m\n",
      "\u001b[31m2018-03-11 08:07:45,477 INFO - root - Epoch[8] Batch [300]#011Speed: 29722.62 samples/sec#011accuracy=0.976200\u001b[0m\n",
      "\u001b[31m2018-03-11 08:07:45,835 INFO - root - Epoch[8] Batch [400]#011Speed: 27970.01 samples/sec#011accuracy=0.975000\u001b[0m\n",
      "\u001b[31m2018-03-11 08:07:46,154 INFO - root - Epoch[8] Batch [500]#011Speed: 31415.42 samples/sec#011accuracy=0.974500\u001b[0m\n",
      "\u001b[31m2018-03-11 08:07:46,443 INFO - root - Epoch[8] Train-accuracy=0.975960\u001b[0m\n",
      "\u001b[31m2018-03-11 08:07:46,444 INFO - root - Epoch[8] Time cost=1.999\u001b[0m\n",
      "\u001b[31m2018-03-11 08:07:46,611 INFO - root - Epoch[8] Validation-accuracy=0.968000\u001b[0m\n",
      "\u001b[31m2018-03-11 08:07:46,892 INFO - root - Epoch[9] Batch [100]#011Speed: 36001.00 samples/sec#011accuracy=0.977624\u001b[0m\n",
      "\u001b[31m2018-03-11 08:07:47,193 INFO - root - Epoch[9] Batch [200]#011Speed: 33210.66 samples/sec#011accuracy=0.976800\u001b[0m\n",
      "\u001b[31m2018-03-11 08:07:47,495 INFO - root - Epoch[9] Batch [300]#011Speed: 33192.58 samples/sec#011accuracy=0.977900\u001b[0m\n",
      "\u001b[31m2018-03-11 08:07:47,833 INFO - root - Epoch[9] Batch [400]#011Speed: 29560.36 samples/sec#011accuracy=0.978000\u001b[0m\n",
      "\u001b[31m2018-03-11 08:07:48,146 INFO - root - Epoch[9] Batch [500]#011Speed: 32010.87 samples/sec#011accuracy=0.976300\u001b[0m\n",
      "\u001b[31m2018-03-11 08:07:48,457 INFO - root - Epoch[9] Train-accuracy=0.979091\u001b[0m\n",
      "\u001b[31m2018-03-11 08:07:48,457 INFO - root - Epoch[9] Time cost=1.846\u001b[0m\n",
      "\u001b[31m2018-03-11 08:07:48,623 INFO - root - Epoch[9] Validation-accuracy=0.970700\u001b[0m\n",
      "\u001b[31m2018-03-11 08:07:48,904 INFO - root - Epoch[10] Batch [100]#011Speed: 35806.89 samples/sec#011accuracy=0.979901\u001b[0m\n",
      "\u001b[31m2018-03-11 08:07:49,152 INFO - root - Epoch[10] Batch [200]#011Speed: 40386.23 samples/sec#011accuracy=0.980900\u001b[0m\n",
      "\u001b[31m2018-03-11 08:07:49,464 INFO - root - Epoch[10] Batch [300]#011Speed: 32149.67 samples/sec#011accuracy=0.981800\u001b[0m\n",
      "\u001b[31m2018-03-11 08:07:49,821 INFO - root - Epoch[10] Batch [400]#011Speed: 28020.61 samples/sec#011accuracy=0.980100\u001b[0m\n",
      "\u001b[31m2018-03-11 08:07:50,109 INFO - root - Epoch[10] Batch [500]#011Speed: 34749.25 samples/sec#011accuracy=0.978900\u001b[0m\n",
      "\u001b[31m2018-03-11 08:07:50,410 INFO - root - Epoch[10] Train-accuracy=0.980101\u001b[0m\n",
      "\u001b[31m2018-03-11 08:07:50,411 INFO - root - Epoch[10] Time cost=1.788\u001b[0m\n",
      "\u001b[31m2018-03-11 08:07:50,590 INFO - root - Epoch[10] Validation-accuracy=0.972400\u001b[0m\n",
      "\u001b[31m2018-03-11 08:07:50,896 INFO - root - Epoch[11] Batch [100]#011Speed: 33039.60 samples/sec#011accuracy=0.982673\u001b[0m\n",
      "\u001b[31m2018-03-11 08:07:51,197 INFO - root - Epoch[11] Batch [200]#011Speed: 33236.72 samples/sec#011accuracy=0.983500\u001b[0m\n",
      "\u001b[31m2018-03-11 08:07:51,564 INFO - root - Epoch[11] Batch [300]#011Speed: 27287.14 samples/sec#011accuracy=0.984500\u001b[0m\n",
      "\u001b[31m2018-03-11 08:07:51,847 INFO - root - Epoch[11] Batch [400]#011Speed: 35371.42 samples/sec#011accuracy=0.982300\u001b[0m\n",
      "\u001b[31m2018-03-11 08:07:52,153 INFO - root - Epoch[11] Batch [500]#011Speed: 32738.48 samples/sec#011accuracy=0.981700\u001b[0m\n",
      "\u001b[31m2018-03-11 08:07:52,438 INFO - root - Epoch[11] Train-accuracy=0.982323\u001b[0m\n",
      "\u001b[31m2018-03-11 08:07:52,438 INFO - root - Epoch[11] Time cost=1.848\u001b[0m\n",
      "\u001b[31m2018-03-11 08:07:52,602 INFO - root - Epoch[11] Validation-accuracy=0.973100\u001b[0m\n",
      "\u001b[31m2018-03-11 08:07:52,896 INFO - root - Epoch[12] Batch [100]#011Speed: 34306.85 samples/sec#011accuracy=0.984653\u001b[0m\n",
      "\u001b[31m2018-03-11 08:07:53,229 INFO - root - Epoch[12] Batch [200]#011Speed: 30060.08 samples/sec#011accuracy=0.984800\u001b[0m\n",
      "\u001b[31m2018-03-11 08:07:53,587 INFO - root - Epoch[12] Batch [300]#011Speed: 27973.51 samples/sec#011accuracy=0.986600\u001b[0m\n",
      "\u001b[31m2018-03-11 08:07:53,913 INFO - root - Epoch[12] Batch [400]#011Speed: 30698.58 samples/sec#011accuracy=0.985000\u001b[0m\n",
      "\u001b[31m2018-03-11 08:07:54,272 INFO - root - Epoch[12] Batch [500]#011Speed: 27874.72 samples/sec#011accuracy=0.984600\u001b[0m\n",
      "\u001b[31m2018-03-11 08:07:54,630 INFO - root - Epoch[12] Train-accuracy=0.984646\u001b[0m\n",
      "\u001b[31m2018-03-11 08:07:54,631 INFO - root - Epoch[12] Time cost=2.028\u001b[0m\n",
      "\u001b[31m2018-03-11 08:07:54,776 INFO - root - Epoch[12] Validation-accuracy=0.973700\u001b[0m\n",
      "\u001b[31m2018-03-11 08:07:55,084 INFO - root - Epoch[13] Batch [100]#011Speed: 32670.24 samples/sec#011accuracy=0.986337\u001b[0m\n",
      "\u001b[31m2018-03-11 08:07:55,378 INFO - root - Epoch[13] Batch [200]#011Speed: 34064.36 samples/sec#011accuracy=0.987100\u001b[0m\n",
      "\u001b[31m2018-03-11 08:07:55,777 INFO - root - Epoch[13] Batch [300]#011Speed: 25058.08 samples/sec#011accuracy=0.988600\u001b[0m\n",
      "\u001b[31m2018-03-11 08:07:56,078 INFO - root - Epoch[13] Batch [400]#011Speed: 33233.06 samples/sec#011accuracy=0.986800\u001b[0m\n",
      "\u001b[31m2018-03-11 08:07:56,385 INFO - root - Epoch[13] Batch [500]#011Speed: 32632.50 samples/sec#011accuracy=0.986500\u001b[0m\n",
      "\u001b[31m2018-03-11 08:07:56,694 INFO - root - Epoch[13] Train-accuracy=0.986465\u001b[0m\n",
      "\u001b[31m2018-03-11 08:07:56,694 INFO - root - Epoch[13] Time cost=1.918\u001b[0m\n",
      "\u001b[31m2018-03-11 08:07:56,824 INFO - root - Epoch[13] Validation-accuracy=0.973800\u001b[0m\n",
      "\u001b[31m2018-03-11 08:07:57,158 INFO - root - Epoch[14] Batch [100]#011Speed: 30102.34 samples/sec#011accuracy=0.987723\u001b[0m\n",
      "\u001b[31m2018-03-11 08:07:57,455 INFO - root - Epoch[14] Batch [200]#011Speed: 33687.05 samples/sec#011accuracy=0.988800\u001b[0m\n",
      "\u001b[31m2018-03-11 08:07:57,864 INFO - root - Epoch[14] Batch [300]#011Speed: 24513.83 samples/sec#011accuracy=0.989000\u001b[0m\n",
      "\u001b[31m2018-03-11 08:07:58,227 INFO - root - Epoch[14] Batch [400]#011Speed: 27518.48 samples/sec#011accuracy=0.988000\u001b[0m\n",
      "\u001b[31m2018-03-11 08:07:58,573 INFO - root - Epoch[14] Batch [500]#011Speed: 28967.95 samples/sec#011accuracy=0.987700\u001b[0m\n",
      "\u001b[31m2018-03-11 08:07:58,882 INFO - root - Epoch[14] Train-accuracy=0.988182\u001b[0m\n",
      "\u001b[31m2018-03-11 08:07:58,883 INFO - root - Epoch[14] Time cost=2.059\u001b[0m\n",
      "\u001b[31m2018-03-11 08:07:59,030 INFO - root - Epoch[14] Validation-accuracy=0.974600\u001b[0m\n",
      "\u001b[31m2018-03-11 08:07:59,338 INFO - root - Epoch[15] Batch [100]#011Speed: 32711.80 samples/sec#011accuracy=0.989307\u001b[0m\n",
      "\u001b[31m2018-03-11 08:07:59,675 INFO - root - Epoch[15] Batch [200]#011Speed: 29728.11 samples/sec#011accuracy=0.990600\u001b[0m\n",
      "\u001b[31m2018-03-11 08:07:59,985 INFO - root - Epoch[15] Batch [300]#011Speed: 32296.42 samples/sec#011accuracy=0.990600\u001b[0m\n",
      "\u001b[31m2018-03-11 08:08:00,286 INFO - root - Epoch[15] Batch [400]#011Speed: 33265.58 samples/sec#011accuracy=0.989700\u001b[0m\n",
      "\u001b[31m2018-03-11 08:08:00,612 INFO - root - Epoch[15] Batch [500]#011Speed: 30673.53 samples/sec#011accuracy=0.989800\u001b[0m\n",
      "\u001b[31m2018-03-11 08:08:00,904 INFO - root - Epoch[15] Train-accuracy=0.990000\u001b[0m\n",
      "\u001b[31m2018-03-11 08:08:00,904 INFO - root - Epoch[15] Time cost=1.874\u001b[0m\n",
      "\u001b[31m2018-03-11 08:08:01,038 INFO - root - Epoch[15] Validation-accuracy=0.975200\u001b[0m\n",
      "\u001b[31m2018-03-11 08:08:01,371 INFO - root - Epoch[16] Batch [100]#011Speed: 30291.37 samples/sec#011accuracy=0.990297\u001b[0m\n",
      "\u001b[31m2018-03-11 08:08:01,711 INFO - root - Epoch[16] Batch [200]#011Speed: 29449.36 samples/sec#011accuracy=0.992100\u001b[0m\n",
      "\u001b[31m2018-03-11 08:08:02,015 INFO - root - Epoch[16] Batch [300]#011Speed: 32833.92 samples/sec#011accuracy=0.991500\u001b[0m\n",
      "\u001b[31m2018-03-11 08:08:02,300 INFO - root - Epoch[16] Batch [400]#011Speed: 35150.11 samples/sec#011accuracy=0.990900\u001b[0m\n",
      "\u001b[31m2018-03-11 08:08:02,630 INFO - root - Epoch[16] Batch [500]#011Speed: 30300.83 samples/sec#011accuracy=0.990700\u001b[0m\n",
      "\u001b[31m2018-03-11 08:08:02,917 INFO - root - Epoch[16] Train-accuracy=0.991515\u001b[0m\n",
      "\u001b[31m2018-03-11 08:08:02,917 INFO - root - Epoch[16] Time cost=1.879\u001b[0m\n",
      "\u001b[31m2018-03-11 08:08:03,054 INFO - root - Epoch[16] Validation-accuracy=0.975700\u001b[0m\n",
      "\u001b[31m2018-03-11 08:08:03,354 INFO - root - Epoch[17] Batch [100]#011Speed: 33643.52 samples/sec#011accuracy=0.991881\u001b[0m\n",
      "\u001b[31m2018-03-11 08:08:03,692 INFO - root - Epoch[17] Batch [200]#011Speed: 29593.52 samples/sec#011accuracy=0.993400\u001b[0m\n",
      "\u001b[31m2018-03-11 08:08:03,996 INFO - root - Epoch[17] Batch [300]#011Speed: 32896.24 samples/sec#011accuracy=0.993000\u001b[0m\n",
      "\u001b[31m2018-03-11 08:08:04,292 INFO - root - Epoch[17] Batch [400]#011Speed: 33808.89 samples/sec#011accuracy=0.992100\u001b[0m\n",
      "\u001b[31m2018-03-11 08:08:04,613 INFO - root - Epoch[17] Batch [500]#011Speed: 31238.76 samples/sec#011accuracy=0.992300\u001b[0m\n",
      "\u001b[31m2018-03-11 08:08:04,890 INFO - root - Epoch[17] Train-accuracy=0.992929\u001b[0m\n",
      "\u001b[31m2018-03-11 08:08:04,891 INFO - root - Epoch[17] Time cost=1.836\u001b[0m\n",
      "\u001b[31m2018-03-11 08:08:05,026 INFO - root - Epoch[17] Validation-accuracy=0.976400\u001b[0m\n",
      "\u001b[31m2018-03-11 08:08:05,332 INFO - root - Epoch[18] Batch [100]#011Speed: 32987.18 samples/sec#011accuracy=0.992574\u001b[0m\n",
      "\u001b[31m2018-03-11 08:08:05,679 INFO - root - Epoch[18] Batch [200]#011Speed: 28807.33 samples/sec#011accuracy=0.994500\u001b[0m\n",
      "\u001b[31m2018-03-11 08:08:05,972 INFO - root - Epoch[18] Batch [300]#011Speed: 34159.19 samples/sec#011accuracy=0.994100\u001b[0m\n",
      "\u001b[31m2018-03-11 08:08:06,257 INFO - root - Epoch[18] Batch [400]#011Speed: 35211.51 samples/sec#011accuracy=0.994000\u001b[0m\n",
      "\u001b[31m2018-03-11 08:08:06,577 INFO - root - Epoch[18] Batch [500]#011Speed: 31300.75 samples/sec#011accuracy=0.993700\u001b[0m\n",
      "\u001b[31m2018-03-11 08:08:06,858 INFO - root - Epoch[18] Train-accuracy=0.994545\u001b[0m\n",
      "\u001b[31m2018-03-11 08:08:06,858 INFO - root - Epoch[18] Time cost=1.832\u001b[0m\n",
      "\u001b[31m2018-03-11 08:08:06,996 INFO - root - Epoch[18] Validation-accuracy=0.976500\u001b[0m\n",
      "\u001b[31m2018-03-11 08:08:07,277 INFO - root - Epoch[19] Batch [100]#011Speed: 36003.75 samples/sec#011accuracy=0.994158\u001b[0m\n",
      "\u001b[31m2018-03-11 08:08:07,599 INFO - root - Epoch[19] Batch [200]#011Speed: 31039.30 samples/sec#011accuracy=0.995300\u001b[0m\n",
      "\u001b[31m2018-03-11 08:08:07,879 INFO - root - Epoch[19] Batch [300]#011Speed: 35749.14 samples/sec#011accuracy=0.994600\u001b[0m\n",
      "\u001b[31m2018-03-11 08:08:08,163 INFO - root - Epoch[19] Batch [400]#011Speed: 35240.42 samples/sec#011accuracy=0.995000\u001b[0m\n",
      "\u001b[31m2018-03-11 08:08:08,444 INFO - root - Epoch[19] Batch [500]#011Speed: 35704.99 samples/sec#011accuracy=0.994300\u001b[0m\n",
      "\u001b[31m2018-03-11 08:08:08,752 INFO - root - Epoch[19] Train-accuracy=0.995556\u001b[0m\n",
      "\u001b[31m2018-03-11 08:08:08,752 INFO - root - Epoch[19] Time cost=1.756\u001b[0m\n",
      "\u001b[31m2018-03-11 08:08:08,886 INFO - root - Epoch[19] Validation-accuracy=0.976300\u001b[0m\n",
      "\u001b[31m2018-03-11 08:08:09,169 INFO - root - Epoch[20] Batch [100]#011Speed: 35759.35 samples/sec#011accuracy=0.995446\u001b[0m\n",
      "\u001b[31m2018-03-11 08:08:09,449 INFO - root - Epoch[20] Batch [200]#011Speed: 35827.50 samples/sec#011accuracy=0.995800\u001b[0m\n",
      "\u001b[31m2018-03-11 08:08:09,784 INFO - root - Epoch[20] Batch [300]#011Speed: 29811.87 samples/sec#011accuracy=0.995700\u001b[0m\n",
      "\u001b[31m2018-03-11 08:08:10,064 INFO - root - Epoch[20] Batch [400]#011Speed: 35824.32 samples/sec#011accuracy=0.995500\u001b[0m\n",
      "\u001b[31m2018-03-11 08:08:10,344 INFO - root - Epoch[20] Batch [500]#011Speed: 35707.42 samples/sec#011accuracy=0.995200\u001b[0m\n",
      "\u001b[31m2018-03-11 08:08:10,669 INFO - root - Epoch[20] Train-accuracy=0.996364\u001b[0m\n",
      "\u001b[31m2018-03-11 08:08:10,669 INFO - root - Epoch[20] Time cost=1.782\u001b[0m\n",
      "\u001b[31m2018-03-11 08:08:10,818 INFO - root - Epoch[20] Validation-accuracy=0.976400\u001b[0m\n",
      "\u001b[31m2018-03-11 08:08:11,118 INFO - root - Epoch[21] Batch [100]#011Speed: 33607.45 samples/sec#011accuracy=0.996238\u001b[0m\n",
      "\u001b[31m2018-03-11 08:08:11,410 INFO - root - Epoch[21] Batch [200]#011Speed: 34301.55 samples/sec#011accuracy=0.996400\u001b[0m\n",
      "\u001b[31m2018-03-11 08:08:11,765 INFO - root - Epoch[21] Batch [300]#011Speed: 28168.69 samples/sec#011accuracy=0.996600\u001b[0m\n",
      "\u001b[31m2018-03-11 08:08:12,067 INFO - root - Epoch[21] Batch [400]#011Speed: 33228.34 samples/sec#011accuracy=0.996800\u001b[0m\n",
      "\u001b[31m2018-03-11 08:08:12,370 INFO - root - Epoch[21] Batch [500]#011Speed: 32968.83 samples/sec#011accuracy=0.995900\u001b[0m\n",
      "\u001b[31m2018-03-11 08:08:12,724 INFO - root - Epoch[21] Train-accuracy=0.996869\u001b[0m\n",
      "\u001b[31m2018-03-11 08:08:12,724 INFO - root - Epoch[21] Time cost=1.906\u001b[0m\n",
      "\u001b[31m2018-03-11 08:08:12,872 INFO - root - Epoch[21] Validation-accuracy=0.977000\u001b[0m\n",
      "\u001b[31m2018-03-11 08:08:13,185 INFO - root - Epoch[22] Batch [100]#011Speed: 32181.99 samples/sec#011accuracy=0.996733\u001b[0m\n",
      "\u001b[31m2018-03-11 08:08:13,498 INFO - root - Epoch[22] Batch [200]#011Speed: 31923.69 samples/sec#011accuracy=0.996900\u001b[0m\n",
      "\u001b[31m2018-03-11 08:08:13,850 INFO - root - Epoch[22] Batch [300]#011Speed: 28505.38 samples/sec#011accuracy=0.997400\u001b[0m\n",
      "\u001b[31m2018-03-11 08:08:14,161 INFO - root - Epoch[22] Batch [400]#011Speed: 32138.41 samples/sec#011accuracy=0.997600\u001b[0m\n",
      "\u001b[31m2018-03-11 08:08:14,454 INFO - root - Epoch[22] Batch [500]#011Speed: 34157.91 samples/sec#011accuracy=0.997300\u001b[0m\n",
      "\u001b[31m2018-03-11 08:08:14,790 INFO - root - Epoch[22] Train-accuracy=0.998081\u001b[0m\n",
      "\u001b[31m2018-03-11 08:08:14,790 INFO - root - Epoch[22] Time cost=1.918\u001b[0m\n",
      "\u001b[31m2018-03-11 08:08:14,926 INFO - root - Epoch[22] Validation-accuracy=0.976200\u001b[0m\n",
      "\u001b[31m2018-03-11 08:08:15,322 INFO - root - Epoch[23] Batch [100]#011Speed: 25377.16 samples/sec#011accuracy=0.997921\u001b[0m\n",
      "\u001b[31m2018-03-11 08:08:15,706 INFO - root - Epoch[23] Batch [200]#011Speed: 26063.86 samples/sec#011accuracy=0.997700\u001b[0m\n",
      "\u001b[31m2018-03-11 08:08:16,012 INFO - root - Epoch[23] Batch [300]#011Speed: 32699.61 samples/sec#011accuracy=0.997900\u001b[0m\n",
      "\u001b[31m2018-03-11 08:08:16,332 INFO - root - Epoch[23] Batch [400]#011Speed: 31294.70 samples/sec#011accuracy=0.997900\u001b[0m\n",
      "\u001b[31m2018-03-11 08:08:16,665 INFO - root - Epoch[23] Batch [500]#011Speed: 30060.47 samples/sec#011accuracy=0.997900\u001b[0m\n",
      "\u001b[31m2018-03-11 08:08:16,987 INFO - root - Epoch[23] Train-accuracy=0.998586\u001b[0m\n",
      "\u001b[31m2018-03-11 08:08:16,988 INFO - root - Epoch[23] Time cost=2.061\u001b[0m\n",
      "\u001b[31m2018-03-11 08:08:17,127 INFO - root - Epoch[23] Validation-accuracy=0.976000\u001b[0m\n",
      "\u001b[31m2018-03-11 08:08:17,408 INFO - root - Epoch[24] Batch [100]#011Speed: 35871.10 samples/sec#011accuracy=0.998317\u001b[0m\n",
      "\u001b[31m2018-03-11 08:08:17,822 INFO - root - Epoch[24] Batch [200]#011Speed: 24215.88 samples/sec#011accuracy=0.998200\u001b[0m\n"
     ]
    },
    {
     "name": "stdout",
     "output_type": "stream",
     "text": [
      "\u001b[31m2018-03-11 08:08:18,170 INFO - root - Epoch[24] Batch [300]#011Speed: 28761.09 samples/sec#011accuracy=0.998400\u001b[0m\n",
      "\u001b[31m2018-03-11 08:08:18,479 INFO - root - Epoch[24] Batch [400]#011Speed: 32395.28 samples/sec#011accuracy=0.998400\u001b[0m\n",
      "\u001b[31m2018-03-11 08:08:18,828 INFO - root - Epoch[24] Batch [500]#011Speed: 28660.03 samples/sec#011accuracy=0.998300\u001b[0m\n",
      "\u001b[31m2018-03-11 08:08:19,148 INFO - root - Epoch[24] Train-accuracy=0.998990\u001b[0m\n",
      "\u001b[31m2018-03-11 08:08:19,148 INFO - root - Epoch[24] Time cost=2.021\u001b[0m\n",
      "\u001b[31m2018-03-11 08:08:19,309 INFO - root - Epoch[24] Validation-accuracy=0.975800\u001b[0m\n",
      "===== Job Complete =====\n"
     ]
    }
   ],
   "source": [
    "mnist_estimator.fit({\"train\": train_data_location, \"test\": test_data_location})"
   ]
  },
  {
   "cell_type": "code",
   "execution_count": 15,
   "metadata": {},
   "outputs": [
    {
     "name": "stderr",
     "output_type": "stream",
     "text": [
      "INFO:sagemaker:Creating model with name: sagemaker-mxnet-py2-cpu-2018-03-11-08-01-54-042\n",
      "INFO:sagemaker:Creating endpoint with name sagemaker-mxnet-py2-cpu-2018-03-11-08-01-54-042\n"
     ]
    },
    {
     "name": "stdout",
     "output_type": "stream",
     "text": [
      "---------------------------------------------------------------------------------------------------------------!CPU times: user 456 ms, sys: 40 ms, total: 496 ms\n",
      "Wall time: 9min 27s\n"
     ]
    }
   ],
   "source": [
    "%%time\n",
    "\n",
    "predictor = mnist_estimator.deploy(initial_instance_count=1, instance_type=\"ml.m4.xlarge\")"
   ]
  },
  {
   "cell_type": "markdown",
   "metadata": {},
   "source": [
    "## Model Validation"
   ]
  },
  {
   "cell_type": "code",
   "execution_count": 16,
   "metadata": {},
   "outputs": [
    {
     "data": {
      "text/html": [
       "<script type=\"text/Javascript\">\n",
       "    var pixels = [];\n",
       "    for (var i = 0; i < 28*28; i++) pixels[i] = 0;\n",
       "    var click = 0;\n",
       "\n",
       "    var canvas = document.querySelector(\"canvas\");\n",
       "    canvas.addEventListener(\"mousemove\", function(e){\n",
       "        if (e.buttons == 1) {\n",
       "            click = 1;\n",
       "            canvas.getContext(\"2d\").fillStyle = \"rgb(0,0,0)\";\n",
       "            canvas.getContext(\"2d\").fillRect(e.offsetX, e.offsetY, 8, 8);\n",
       "            x = Math.floor(e.offsetY * 0.2);\n",
       "            y = Math.floor(e.offsetX * 0.2) + 1;\n",
       "            for (var dy = 0; dy < 2; dy++){\n",
       "                for (var dx = 0; dx < 2; dx++){\n",
       "                    if ((x + dx < 28) && (y + dy < 28)){\n",
       "                        pixels[(y+dy)+(x+dx)*28] = 1;\n",
       "                    }\n",
       "                }\n",
       "            }\n",
       "        } else {\n",
       "            if (click == 1) set_value();\n",
       "            click = 0;\n",
       "        }\n",
       "    });\n",
       "    function clear_value(){\n",
       "        canvas.getContext(\"2d\").fillStyle = \"rgb(255,255,255)\";\n",
       "        canvas.getContext(\"2d\").fillRect(0, 0, 140, 140);\n",
       "        for (var i = 0; i < 28*28; i++) pixels[i] = 0;\n",
       "    }\n",
       "    \n",
       "    function set_value(){\n",
       "        var result = \"[[\"\n",
       "        for (var i = 0; i < 28; i++) {\n",
       "            result += \"[\"\n",
       "            for (var j = 0; j < 28; j++) {\n",
       "                result += pixels [i * 28 + j]\n",
       "                if (j < 27) {\n",
       "                    result += \", \"\n",
       "                }\n",
       "            }\n",
       "            result += \"]\"\n",
       "            if (i < 27) {\n",
       "                result += \", \"\n",
       "            }\n",
       "        }\n",
       "        result += \"]]\"\n",
       "        var kernel = IPython.notebook.kernel;\n",
       "        kernel.execute(\"data = \" + result)\n",
       "    }\n",
       "</script>\n",
       "<table>\n",
       "<td style=\"border-style: none;\">\n",
       "<div style=\"border: solid 2px #666; width: 143px; height: 144px;\">\n",
       "<canvas width=\"140\" height=\"140\"></canvas>\n",
       "</div></td>\n",
       "<td style=\"border-style: none;\">\n",
       "<button onclick=\"clear_value()\">Clear</button>\n",
       "</td>\n",
       "</table>\n",
       "\n",
       "<!-- This work has been modified from the original and is licensed under the Apache 2.0 License. -->\n",
       "\n",
       "<!--\n",
       "                                     Apache License\n",
       "                           Version 2.0, January 2004\n",
       "                        http://www.apache.org/licenses/\n",
       "\n",
       "   TERMS AND CONDITIONS FOR USE, REPRODUCTION, AND DISTRIBUTION\n",
       "\n",
       "   1. Definitions.\n",
       "\n",
       "      \"License\" shall mean the terms and conditions for use, reproduction,\n",
       "      and distribution as defined by Sections 1 through 9 of this document.\n",
       "\n",
       "      \"Licensor\" shall mean the copyright owner or entity authorized by\n",
       "      the copyright owner that is granting the License.\n",
       "\n",
       "      \"Legal Entity\" shall mean the union of the acting entity and all\n",
       "      other entities that control, are controlled by, or are under common\n",
       "      control with that entity. For the purposes of this definition,\n",
       "      \"control\" means (i) the power, direct or indirect, to cause the\n",
       "      direction or management of such entity, whether by contract or\n",
       "      otherwise, or (ii) ownership of fifty percent (50%) or more of the\n",
       "      outstanding shares, or (iii) beneficial ownership of such entity.\n",
       "\n",
       "      \"You\" (or \"Your\") shall mean an individual or Legal Entity\n",
       "      exercising permissions granted by this License.\n",
       "\n",
       "      \"Source\" form shall mean the preferred form for making modifications,\n",
       "      including but not limited to software source code, documentation\n",
       "      source, and configuration files.\n",
       "\n",
       "      \"Object\" form shall mean any form resulting from mechanical\n",
       "      transformation or translation of a Source form, including but\n",
       "      not limited to compiled object code, generated documentation,\n",
       "      and conversions to other media types.\n",
       "\n",
       "      \"Work\" shall mean the work of authorship, whether in Source or\n",
       "      Object form, made available under the License, as indicated by a\n",
       "      copyright notice that is included in or attached to the work\n",
       "      (an example is provided in the Appendix below).\n",
       "\n",
       "      \"Derivative Works\" shall mean any work, whether in Source or Object\n",
       "      form, that is based on (or derived from) the Work and for which the\n",
       "      editorial revisions, annotations, elaborations, or other modifications\n",
       "      represent, as a whole, an original work of authorship. For the purposes\n",
       "      of this License, Derivative Works shall not include works that remain\n",
       "      separable from, or merely link (or bind by name) to the interfaces of,\n",
       "      the Work and Derivative Works thereof.\n",
       "\n",
       "      \"Contribution\" shall mean any work of authorship, including\n",
       "      the original version of the Work and any modifications or additions\n",
       "      to that Work or Derivative Works thereof, that is intentionally\n",
       "      submitted to Licensor for inclusion in the Work by the copyright owner\n",
       "      or by an individual or Legal Entity authorized to submit on behalf of\n",
       "      the copyright owner. For the purposes of this definition, \"submitted\"\n",
       "      means any form of electronic, verbal, or written communication sent\n",
       "      to the Licensor or its representatives, including but not limited to\n",
       "      communication on electronic mailing lists, source code control systems,\n",
       "      and issue tracking systems that are managed by, or on behalf of, the\n",
       "      Licensor for the purpose of discussing and improving the Work, but\n",
       "      excluding communication that is conspicuously marked or otherwise\n",
       "      designated in writing by the copyright owner as \"Not a Contribution.\"\n",
       "\n",
       "      \"Contributor\" shall mean Licensor and any individual or Legal Entity\n",
       "      on behalf of whom a Contribution has been received by Licensor and\n",
       "      subsequently incorporated within the Work.\n",
       "\n",
       "   2. Grant of Copyright License. Subject to the terms and conditions of\n",
       "      this License, each Contributor hereby grants to You a perpetual,\n",
       "      worldwide, non-exclusive, no-charge, royalty-free, irrevocable\n",
       "      copyright license to reproduce, prepare Derivative Works of,\n",
       "      publicly display, publicly perform, sublicense, and distribute the\n",
       "      Work and such Derivative Works in Source or Object form.\n",
       "\n",
       "   3. Grant of Patent License. Subject to the terms and conditions of\n",
       "      this License, each Contributor hereby grants to You a perpetual,\n",
       "      worldwide, non-exclusive, no-charge, royalty-free, irrevocable\n",
       "      (except as stated in this section) patent license to make, have made,\n",
       "      use, offer to sell, sell, import, and otherwise transfer the Work,\n",
       "      where such license applies only to those patent claims licensable\n",
       "      by such Contributor that are necessarily infringed by their\n",
       "      Contribution(s) alone or by combination of their Contribution(s)\n",
       "      with the Work to which such Contribution(s) was submitted. If You\n",
       "      institute patent litigation against any entity (including a\n",
       "      cross-claim or counterclaim in a lawsuit) alleging that the Work\n",
       "      or a Contribution incorporated within the Work constitutes direct\n",
       "      or contributory patent infringement, then any patent licenses\n",
       "      granted to You under this License for that Work shall terminate\n",
       "      as of the date such litigation is filed.\n",
       "\n",
       "   4. Redistribution. You may reproduce and distribute copies of the\n",
       "      Work or Derivative Works thereof in any medium, with or without\n",
       "      modifications, and in Source or Object form, provided that You\n",
       "      meet the following conditions:\n",
       "\n",
       "      (a) You must give any other recipients of the Work or\n",
       "          Derivative Works a copy of this License; and\n",
       "\n",
       "      (b) You must cause any modified files to carry prominent notices\n",
       "          stating that You changed the files; and\n",
       "\n",
       "      (c) You must retain, in the Source form of any Derivative Works\n",
       "          that You distribute, all copyright, patent, trademark, and\n",
       "          attribution notices from the Source form of the Work,\n",
       "          excluding those notices that do not pertain to any part of\n",
       "          the Derivative Works; and\n",
       "\n",
       "      (d) If the Work includes a \"NOTICE\" text file as part of its\n",
       "          distribution, then any Derivative Works that You distribute must\n",
       "          include a readable copy of the attribution notices contained\n",
       "          within such NOTICE file, excluding those notices that do not\n",
       "          pertain to any part of the Derivative Works, in at least one\n",
       "          of the following places: within a NOTICE text file distributed\n",
       "          as part of the Derivative Works; within the Source form or\n",
       "          documentation, if provided along with the Derivative Works; or,\n",
       "          within a display generated by the Derivative Works, if and\n",
       "          wherever such third-party notices normally appear. The contents\n",
       "          of the NOTICE file are for informational purposes only and\n",
       "          do not modify the License. You may add Your own attribution\n",
       "          notices within Derivative Works that You distribute, alongside\n",
       "          or as an addendum to the NOTICE text from the Work, provided\n",
       "          that such additional attribution notices cannot be construed\n",
       "          as modifying the License.\n",
       "\n",
       "      You may add Your own copyright statement to Your modifications and\n",
       "      may provide additional or different license terms and conditions\n",
       "      for use, reproduction, or distribution of Your modifications, or\n",
       "      for any such Derivative Works as a whole, provided Your use,\n",
       "      reproduction, and distribution of the Work otherwise complies with\n",
       "      the conditions stated in this License.\n",
       "\n",
       "   5. Submission of Contributions. Unless You explicitly state otherwise,\n",
       "      any Contribution intentionally submitted for inclusion in the Work\n",
       "      by You to the Licensor shall be under the terms and conditions of\n",
       "      this License, without any additional terms or conditions.\n",
       "      Notwithstanding the above, nothing herein shall supersede or modify\n",
       "      the terms of any separate license agreement you may have executed\n",
       "      with Licensor regarding such Contributions.\n",
       "\n",
       "   6. Trademarks. This License does not grant permission to use the trade\n",
       "      names, trademarks, service marks, or product names of the Licensor,\n",
       "      except as required for reasonable and customary use in describing the\n",
       "      origin of the Work and reproducing the content of the NOTICE file.\n",
       "\n",
       "   7. Disclaimer of Warranty. Unless required by applicable law or\n",
       "      agreed to in writing, Licensor provides the Work (and each\n",
       "      Contributor provides its Contributions) on an \"AS IS\" BASIS,\n",
       "      WITHOUT WARRANTIES OR CONDITIONS OF ANY KIND, either express or\n",
       "      implied, including, without limitation, any warranties or conditions\n",
       "      of TITLE, NON-INFRINGEMENT, MERCHANTABILITY, or FITNESS FOR A\n",
       "      PARTICULAR PURPOSE. You are solely responsible for determining the\n",
       "      appropriateness of using or redistributing the Work and assume any\n",
       "      risks associated with Your exercise of permissions under this License.\n",
       "\n",
       "   8. Limitation of Liability. In no event and under no legal theory,\n",
       "      whether in tort (including negligence), contract, or otherwise,\n",
       "      unless required by applicable law (such as deliberate and grossly\n",
       "      negligent acts) or agreed to in writing, shall any Contributor be\n",
       "      liable to You for damages, including any direct, indirect, special,\n",
       "      incidental, or consequential damages of any character arising as a\n",
       "      result of this License or out of the use or inability to use the\n",
       "      Work (including but not limited to damages for loss of goodwill,\n",
       "      work stoppage, computer failure or malfunction, or any and all\n",
       "      other commercial damages or losses), even if such Contributor\n",
       "      has been advised of the possibility of such damages.\n",
       "\n",
       "   9. Accepting Warranty or Additional Liability. While redistributing\n",
       "      the Work or Derivative Works thereof, You may choose to offer,\n",
       "      and charge a fee for, acceptance of support, warranty, indemnity,\n",
       "      or other liability obligations and/or rights consistent with this\n",
       "      License. However, in accepting such obligations, You may act only\n",
       "      on Your own behalf and on Your sole responsibility, not on behalf\n",
       "      of any other Contributor, and only if You agree to indemnify,\n",
       "      defend, and hold each Contributor harmless for any liability\n",
       "      incurred by, or claims asserted against, such Contributor by reason\n",
       "      of your accepting any such warranty or additional liability.\n",
       "\n",
       "   END OF TERMS AND CONDITIONS\n",
       "\n",
       "   APPENDIX: How to apply the Apache License to your work.\n",
       "\n",
       "      To apply the Apache License to your work, attach the following\n",
       "      boilerplate notice, with the fields enclosed by brackets \"{}\"\n",
       "      replaced with your own identifying information. (Don't include\n",
       "      the brackets!)  The text should be enclosed in the appropriate\n",
       "      comment syntax for the file format. We also recommend that a\n",
       "      file or class name and description of purpose be included on the\n",
       "      same \"printed page\" as the copyright notice for easier\n",
       "      identification within third-party archives.\n",
       "\n",
       "   Copyright {yyyy} {name of copyright owner}\n",
       "\n",
       "   Licensed under the Apache License, Version 2.0 (the \"License\");\n",
       "   you may not use this file except in compliance with the License.\n",
       "   You may obtain a copy of the License at\n",
       "\n",
       "       http://www.apache.org/licenses/LICENSE-2.0\n",
       "\n",
       "   Unless required by applicable law or agreed to in writing, software\n",
       "   distributed under the License is distributed on an \"AS IS\" BASIS,\n",
       "   WITHOUT WARRANTIES OR CONDITIONS OF ANY KIND, either express or implied.\n",
       "   See the License for the specific language governing permissions and\n",
       "   limitations under the License.\n",
       "-->\n",
       "\n",
       "\n",
       "\n",
       "\n"
      ],
      "text/plain": [
       "<IPython.core.display.HTML object>"
      ]
     },
     "execution_count": 16,
     "metadata": {},
     "output_type": "execute_result"
    }
   ],
   "source": [
    "## Use cursor to draw a number\n",
    "from IPython.display import HTML\n",
    "HTML(open(\"input.html\").read())"
   ]
  },
  {
   "cell_type": "code",
   "execution_count": 17,
   "metadata": {},
   "outputs": [
    {
     "name": "stdout",
     "output_type": "stream",
     "text": [
      "Raw prediction result:\n",
      "[[7.58860363436753e-10, 7.354352646871121e-07, 6.228425775134383e-08, 0.016697576269507408, 1.2559461914918302e-08, 0.9783485531806946, 4.7182388698274735e-06, 1.592211917866848e-10, 0.004938965197652578, 9.419677553523798e-06]]\n",
      "Labeled predictions: \n",
      "[(0, 7.58860363436753e-10), (1, 7.354352646871121e-07), (2, 6.228425775134383e-08), (3, 0.016697576269507408), (4, 1.2559461914918302e-08), (5, 0.9783485531806946), (6, 4.7182388698274735e-06), (7, 1.592211917866848e-10), (8, 0.004938965197652578), (9, 9.419677553523798e-06)]\n",
      "Most likely answer: (5, 0.9783485531806946)\n"
     ]
    }
   ],
   "source": [
    "response = predictor.predict(data)\n",
    "print('Raw prediction result:')\n",
    "print(response)\n",
    "\n",
    "labeled_predictions = list(zip(range(10), response[0]))\n",
    "print('Labeled predictions: ')\n",
    "print(labeled_predictions)\n",
    "\n",
    "labeled_predictions.sort(key=lambda label_and_prob: 1.0 - label_and_prob[1])\n",
    "print('Most likely answer: {}'.format(labeled_predictions[0]))"
   ]
  }
 ],
 "metadata": {
  "kernelspec": {
   "display_name": "conda_mxnet_p36",
   "language": "python",
   "name": "conda_mxnet_p36"
  },
  "language_info": {
   "codemirror_mode": {
    "name": "ipython",
    "version": 3
   },
   "file_extension": ".py",
   "mimetype": "text/x-python",
   "name": "python",
   "nbconvert_exporter": "python",
   "pygments_lexer": "ipython3",
   "version": "3.6.2"
  },
  "notice": "Copyright 2017 Amazon.com, Inc. or its affiliates. All Rights Reserved.  Licensed under the Apache License, Version 2.0 (the \"License\"). You may not use this file except in compliance with the License. A copy of the License is located at http://aws.amazon.com/apache2.0/ or in the \"license\" file accompanying this file. This file is distributed on an \"AS IS\" BASIS, WITHOUT WARRANTIES OR CONDITIONS OF ANY KIND, either express or implied. See the License for the specific language governing permissions and limitations under the License."
 },
 "nbformat": 4,
 "nbformat_minor": 2
}
